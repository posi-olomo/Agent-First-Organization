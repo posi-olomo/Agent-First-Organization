{
 "cells": [
  {
   "cell_type": "code",
   "execution_count": 42,
   "metadata": {},
   "outputs": [],
   "source": [
    "import pandas as pd"
   ]
  },
  {
   "cell_type": "code",
   "execution_count": 43,
   "metadata": {},
   "outputs": [
    {
     "data": {
      "text/html": [
       "<div>\n",
       "<style scoped>\n",
       "    .dataframe tbody tr th:only-of-type {\n",
       "        vertical-align: middle;\n",
       "    }\n",
       "\n",
       "    .dataframe tbody tr th {\n",
       "        vertical-align: top;\n",
       "    }\n",
       "\n",
       "    .dataframe thead th {\n",
       "        text-align: right;\n",
       "    }\n",
       "</style>\n",
       "<table border=\"1\" class=\"dataframe\">\n",
       "  <thead>\n",
       "    <tr style=\"text-align: right;\">\n",
       "      <th></th>\n",
       "      <th>Question</th>\n",
       "      <th>Job Title</th>\n",
       "      <th>Job Description</th>\n",
       "      <th>Similarity Score</th>\n",
       "    </tr>\n",
       "  </thead>\n",
       "  <tbody>\n",
       "    <tr>\n",
       "      <th>0</th>\n",
       "      <td>what is the difference between compilation and...</td>\n",
       "      <td>Software Engineer</td>\n",
       "      <td>Work on mission-critical systems where attenti...</td>\n",
       "      <td>0.000000</td>\n",
       "    </tr>\n",
       "    <tr>\n",
       "      <th>1</th>\n",
       "      <td>explain the concept of polymorphism</td>\n",
       "      <td>Software Engineer</td>\n",
       "      <td>Contribute to the development of enterprise-le...</td>\n",
       "      <td>0.302374</td>\n",
       "    </tr>\n",
       "    <tr>\n",
       "      <th>2</th>\n",
       "      <td>define encapsulation and give an example</td>\n",
       "      <td>Software Engineer</td>\n",
       "      <td>Join our engineering team to design and implem...</td>\n",
       "      <td>0.334130</td>\n",
       "    </tr>\n",
       "    <tr>\n",
       "      <th>3</th>\n",
       "      <td>what is an abstract class and how is it differ...</td>\n",
       "      <td>Software Engineer</td>\n",
       "      <td>Develop and maintain backend and frontend comp...</td>\n",
       "      <td>0.304791</td>\n",
       "    </tr>\n",
       "    <tr>\n",
       "      <th>4</th>\n",
       "      <td>describe the principles of objectoriented prog...</td>\n",
       "      <td>Software Engineer</td>\n",
       "      <td>Work on mission-critical systems where attenti...</td>\n",
       "      <td>0.336025</td>\n",
       "    </tr>\n",
       "  </tbody>\n",
       "</table>\n",
       "</div>"
      ],
      "text/plain": [
       "                                            Question          Job Title  \\\n",
       "0  what is the difference between compilation and...  Software Engineer   \n",
       "1                explain the concept of polymorphism  Software Engineer   \n",
       "2           define encapsulation and give an example  Software Engineer   \n",
       "3  what is an abstract class and how is it differ...  Software Engineer   \n",
       "4  describe the principles of objectoriented prog...  Software Engineer   \n",
       "\n",
       "                                     Job Description  Similarity Score  \n",
       "0  Work on mission-critical systems where attenti...          0.000000  \n",
       "1  Contribute to the development of enterprise-le...          0.302374  \n",
       "2  Join our engineering team to design and implem...          0.334130  \n",
       "3  Develop and maintain backend and frontend comp...          0.304791  \n",
       "4  Work on mission-critical systems where attenti...          0.336025  "
      ]
     },
     "execution_count": 43,
     "metadata": {},
     "output_type": "execute_result"
    }
   ],
   "source": [
    "db = pd.read_csv(\"Final_Diversified_Interview_Dataset.csv\")\n",
    "db.drop_duplicates(inplace= True)\n",
    "db.head()"
   ]
  },
  {
   "cell_type": "code",
   "execution_count": 44,
   "metadata": {},
   "outputs": [
    {
     "data": {
      "text/plain": [
       "0"
      ]
     },
     "execution_count": 44,
     "metadata": {},
     "output_type": "execute_result"
    }
   ],
   "source": [
    "sum(db.duplicated())"
   ]
  },
  {
   "cell_type": "code",
   "execution_count": 45,
   "metadata": {},
   "outputs": [
    {
     "data": {
      "text/plain": [
       "array(['Software Engineer', 'Frontend Developer', 'System Architect',\n",
       "       'Data Engineer', 'Algorithm Engineer', 'Backend Developer',\n",
       "       'Full-Stack Developer', 'DevOps Engineer',\n",
       "       'Quality Assurance (QA) Engineer', 'Python Developer',\n",
       "       'Security Engineer', 'Object-Oriented Developer',\n",
       "       'Machine Learning Engineer', 'AI/ML Engineer',\n",
       "       'Senior Python Developer with AWS', 'Mobile Developer (Flutter)',\n",
       "       'Mobile Developer (Android)', 'Mobile Developer (iOS)',\n",
       "       'Cybersecurity Analyst', 'Software Architect', 'Cloud Engineer',\n",
       "       'Mobile Developer', 'Database Administrator (DBA)',\n",
       "       'Data Scientist', 'Site Reliability Engineer (SRE)',\n",
       "       'QA Automation Engineer', 'Robotics Engineer', 'VR/AR Developer',\n",
       "       'Embedded Systems Engineer', 'Technical Product Manager',\n",
       "       'Blockchain Developer'], dtype=object)"
      ]
     },
     "execution_count": 45,
     "metadata": {},
     "output_type": "execute_result"
    }
   ],
   "source": [
    "db[\"Job Title\"].unique()"
   ]
  },
  {
   "cell_type": "code",
   "execution_count": 46,
   "metadata": {},
   "outputs": [],
   "source": [
    "job_lst = ['Software Engineer', 'Frontend Developer', \n",
    "       'Data Engineer', 'Backend Developer',\n",
    "       'Full-Stack Developer', 'DevOps Engineer',\n",
    "       'Quality Assurance (QA) Engineer',\n",
    "       'Security Engineer', 'Cloud Engineer',\n",
    "       'Cybersecurity Analyst', 'Software Architect',\n",
    "       'Data Scientist', 'Site Reliability Engineer (SRE)',\n",
    "       'QA Automation Engineer', 'Robotics Engineer', 'VR/AR Developer',\n",
    "       'Embedded Systems Engineer', 'Technical Product Manager',\n",
    "       'Blockchain Developer']"
   ]
  },
  {
   "cell_type": "code",
   "execution_count": 47,
   "metadata": {},
   "outputs": [
    {
     "data": {
      "text/html": [
       "<div>\n",
       "<style scoped>\n",
       "    .dataframe tbody tr th:only-of-type {\n",
       "        vertical-align: middle;\n",
       "    }\n",
       "\n",
       "    .dataframe tbody tr th {\n",
       "        vertical-align: top;\n",
       "    }\n",
       "\n",
       "    .dataframe thead th {\n",
       "        text-align: right;\n",
       "    }\n",
       "</style>\n",
       "<table border=\"1\" class=\"dataframe\">\n",
       "  <thead>\n",
       "    <tr style=\"text-align: right;\">\n",
       "      <th></th>\n",
       "      <th>Question</th>\n",
       "      <th>Job Title</th>\n",
       "      <th>Job Description</th>\n",
       "      <th>Similarity Score</th>\n",
       "    </tr>\n",
       "  </thead>\n",
       "  <tbody>\n",
       "    <tr>\n",
       "      <th>0</th>\n",
       "      <td>what is the difference between compilation and...</td>\n",
       "      <td>Software Engineer</td>\n",
       "      <td>Work on mission-critical systems where attenti...</td>\n",
       "      <td>0.000000</td>\n",
       "    </tr>\n",
       "    <tr>\n",
       "      <th>1</th>\n",
       "      <td>explain the concept of polymorphism</td>\n",
       "      <td>Software Engineer</td>\n",
       "      <td>Contribute to the development of enterprise-le...</td>\n",
       "      <td>0.302374</td>\n",
       "    </tr>\n",
       "    <tr>\n",
       "      <th>2</th>\n",
       "      <td>define encapsulation and give an example</td>\n",
       "      <td>Software Engineer</td>\n",
       "      <td>Join our engineering team to design and implem...</td>\n",
       "      <td>0.334130</td>\n",
       "    </tr>\n",
       "    <tr>\n",
       "      <th>3</th>\n",
       "      <td>what is an abstract class and how is it differ...</td>\n",
       "      <td>Software Engineer</td>\n",
       "      <td>Develop and maintain backend and frontend comp...</td>\n",
       "      <td>0.304791</td>\n",
       "    </tr>\n",
       "    <tr>\n",
       "      <th>4</th>\n",
       "      <td>describe the principles of objectoriented prog...</td>\n",
       "      <td>Software Engineer</td>\n",
       "      <td>Work on mission-critical systems where attenti...</td>\n",
       "      <td>0.336025</td>\n",
       "    </tr>\n",
       "  </tbody>\n",
       "</table>\n",
       "</div>"
      ],
      "text/plain": [
       "                                            Question          Job Title  \\\n",
       "0  what is the difference between compilation and...  Software Engineer   \n",
       "1                explain the concept of polymorphism  Software Engineer   \n",
       "2           define encapsulation and give an example  Software Engineer   \n",
       "3  what is an abstract class and how is it differ...  Software Engineer   \n",
       "4  describe the principles of objectoriented prog...  Software Engineer   \n",
       "\n",
       "                                     Job Description  Similarity Score  \n",
       "0  Work on mission-critical systems where attenti...          0.000000  \n",
       "1  Contribute to the development of enterprise-le...          0.302374  \n",
       "2  Join our engineering team to design and implem...          0.334130  \n",
       "3  Develop and maintain backend and frontend comp...          0.304791  \n",
       "4  Work on mission-critical systems where attenti...          0.336025  "
      ]
     },
     "execution_count": 47,
     "metadata": {},
     "output_type": "execute_result"
    }
   ],
   "source": [
    "new_db = db[db[\"Job Title\"].isin(job_lst)]\n",
    "\n",
    "new_db.head()"
   ]
  },
  {
   "cell_type": "code",
   "execution_count": 82,
   "metadata": {},
   "outputs": [
    {
     "name": "stderr",
     "output_type": "stream",
     "text": [
      "C:\\Users\\ayool\\AppData\\Local\\Temp\\ipykernel_30804\\488112233.py:3: SettingWithCopyWarning: \n",
      "A value is trying to be set on a copy of a slice from a DataFrame\n",
      "\n",
      "See the caveats in the documentation: https://pandas.pydata.org/pandas-docs/stable/user_guide/indexing.html#returning-a-view-versus-a-copy\n",
      "  a_db.drop_duplicates(inplace= True)\n"
     ]
    },
    {
     "data": {
      "text/plain": [
       "42            what is cors crossorigin resource sharing\n",
       "90                  what is docker and how does it work\n",
       "91       explain the concept of container orchestration\n",
       "92    what is kubernetes and why is it popular in co...\n",
       "94                   what is infrastructure as code iac\n",
       "Name: Question, dtype: object"
      ]
     },
     "execution_count": 82,
     "metadata": {},
     "output_type": "execute_result"
    }
   ],
   "source": [
    "a_db = new_db[new_db[\"Job Title\"] == 'DevOps Engineer'][\"Question\"]\n",
    "\n",
    "a_db.drop_duplicates(inplace= True)\n",
    "\n",
    "a_db.head()"
   ]
  },
  {
   "cell_type": "code",
   "execution_count": 83,
   "metadata": {},
   "outputs": [
    {
     "name": "stdout",
     "output_type": "stream",
     "text": [
      "<class 'pandas.core.series.Series'>\n",
      "Index: 35 entries, 42 to 3032\n",
      "Series name: Question\n",
      "Non-Null Count  Dtype \n",
      "--------------  ----- \n",
      "35 non-null     object\n",
      "dtypes: object(1)\n",
      "memory usage: 560.0+ bytes\n"
     ]
    }
   ],
   "source": [
    "a_db.info()"
   ]
  },
  {
   "cell_type": "code",
   "execution_count": 84,
   "metadata": {},
   "outputs": [
    {
     "data": {
      "text/plain": [
       "0"
      ]
     },
     "execution_count": 84,
     "metadata": {},
     "output_type": "execute_result"
    }
   ],
   "source": [
    "sum(a_db.duplicated())"
   ]
  },
  {
   "cell_type": "code",
   "execution_count": 85,
   "metadata": {},
   "outputs": [
    {
     "name": "stdout",
     "output_type": "stream",
     "text": [
      "[('DevOps Engineer', 'technical', 'what is cors crossorigin resource sharing'), ('DevOps Engineer', 'technical', 'what is docker and how does it work'), ('DevOps Engineer', 'technical', 'explain the concept of container orchestration'), ('DevOps Engineer', 'technical', 'what is kubernetes and why is it popular in container management'), ('DevOps Engineer', 'technical', 'what is infrastructure as code iac'), ('DevOps Engineer', 'technical', 'what is bluegreen deployment and when would you use it'), ('DevOps Engineer', 'technical', 'explain the role of a configuration management tool like ansible'), ('DevOps Engineer', 'technical', 'describe the use of docker in a devops environment'), ('DevOps Engineer', 'technical', 'what is continuous integration in devops'), ('DevOps Engineer', 'technical', 'what is kubernetes and how does it relate to containerization'), ('DevOps Engineer', 'technical', 'what is infrastructure as code iac and its significance in devops'), ('DevOps Engineer', 'technical', 'how does indexing improve database query performance'), ('DevOps Engineer', 'technical', 'what are some ways you may improve your websites scrolling performance'), ('DevOps Engineer', 'technical', 'how do you provide configuration inheritance'), ('DevOps Engineer', 'technical', 'how do you provide build configuration for multiple locales'), ('DevOps Engineer', 'technical', 'is any special configuration required for angular9'), ('DevOps Engineer', 'technical', 'how do you configure injectors with providers at different levels'), ('DevOps Engineer', 'technical', 'how do you configure vuejs in webpack'), ('DevOps Engineer', 'technical', 'what is dev tools and its purpose'), ('DevOps Engineer', 'technical', 'how do you configure vue loader in webpack'), ('DevOps Engineer', 'technical', 'what is react dev tools'), ('DevOps Engineer', 'technical', 'what are the common tools used for minification'), ('DevOps Engineer', 'technical', 'individuals and interactions over processes and tools and customer collaboration over contract negotiation comprise half of the values of the agile manifesto discuss'), ('DevOps Engineer', 'technical', 'how would you manage a very high turn over and convince developers not to leave the team without increasing compensation what could a company improve to make them stay'), ('DevOps Engineer', 'technical', 'imagine your company gives you 1 month and some budget to improve your and your colleagues daily life what would you do'), ('DevOps Engineer', 'technical', 'why does eventdriven architecture improve scalability'), ('DevOps Engineer', 'technical', 'if not carefully handled there is always a risk of logs containing sensitive information such as passwords how would you deal with this'), ('DevOps Engineer', 'technical', 'say your company gives you one week you can use to improve your and your colleagues lifes how would you use that week'), ('DevOps Engineer', 'technical', 'would you prefer working on green field or brown field projects why'), ('DevOps Engineer', 'technical', 'why is naive bayes so bad how would you improve a spam detection algorithm that uses naive bayes'), ('DevOps Engineer', 'technical', 'how would you design an experiment to determine the impact of latency on user engagement'), ('DevOps Engineer', 'technical', 'How would you implement CI/CD for a Python-based microservices architecture?'), ('DevOps Engineer', 'technical', 'Describe how you would secure access to AWS resources using IAM roles and policies.'), ('DevOps Engineer', 'technical', 'Explain the difference between blue/green and canary deployments. When would you use each?'), ('DevOps Engineer', 'technical', 'What are the key metrics you track in a CI/CD pipeline and why?')]\n"
     ]
    }
   ],
   "source": [
    "a_lst = []\n",
    "for question in a_db:\n",
    "    some_value = ('DevOps Engineer', 'technical', question)\n",
    "    a_lst.append(some_value)\n",
    "\n",
    "print(a_lst)"
   ]
  },
  {
   "cell_type": "code",
   "execution_count": 86,
   "metadata": {},
   "outputs": [],
   "source": [
    "with open(\"DevOps_Engineer_qst.txt\", \"w\") as file:\n",
    "    for value in a_lst:\n",
    "        file.write(str(value)+ \",\" + \"\\n\")"
   ]
  },
  {
   "cell_type": "code",
   "execution_count": 29,
   "metadata": {},
   "outputs": [
    {
     "data": {
      "text/plain": [
       "1023"
      ]
     },
     "execution_count": 29,
     "metadata": {},
     "output_type": "execute_result"
    }
   ],
   "source": [
    "len(a_db)"
   ]
  },
  {
   "cell_type": "code",
   "execution_count": 24,
   "metadata": {},
   "outputs": [
    {
     "data": {
      "text/plain": [
       "108"
      ]
     },
     "execution_count": 24,
     "metadata": {},
     "output_type": "execute_result"
    }
   ],
   "source": [
    "sum(db.duplicated())"
   ]
  },
  {
   "cell_type": "code",
   "execution_count": null,
   "metadata": {},
   "outputs": [],
   "source": [
    "for i in job_lst:\n",
    "    unique_db = "
   ]
  }
 ],
 "metadata": {
  "kernelspec": {
   "display_name": ".venv",
   "language": "python",
   "name": "python3"
  },
  "language_info": {
   "codemirror_mode": {
    "name": "ipython",
    "version": 3
   },
   "file_extension": ".py",
   "mimetype": "text/x-python",
   "name": "python",
   "nbconvert_exporter": "python",
   "pygments_lexer": "ipython3",
   "version": "3.10.11"
  }
 },
 "nbformat": 4,
 "nbformat_minor": 2
}
